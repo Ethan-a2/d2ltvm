{
 "cells": [
  {
   "cell_type": "markdown",
   "metadata": {
    "origin_pos": 0
   },
   "source": [
    "# Batch Norm\n",
    ":label:`ch_batch_norm_gpu`\n",
    "\n",
    "This section talks about batch normalization defined in :numref:`ch_batch_norm` on GPU.\n",
    "\n",
    "## Setup\n"
   ]
  },
  {
   "cell_type": "code",
   "execution_count": null,
   "metadata": {
    "attributes": {
     "classes": [],
     "id": "",
     "n": "1"
    },
    "origin_pos": 1,
    "tab": [
     "tvm"
    ]
   },
   "outputs": [],
   "source": [
    "%matplotlib inline\n",
    "import tvm\n",
    "from tvm import te\n",
    "import numpy as np\n",
    "import d2ltvm\n",
    "import mxnet as mx\n",
    "import timeit \n",
    "\n",
    "target = 'cuda'"
   ]
  },
  {
   "cell_type": "markdown",
   "metadata": {
    "origin_pos": 2
   },
   "source": [
    "## Schedule\n",
    "\n",
    "In order to schedule the batch normalization on GPU, we first fuse the stages using `te.schedule.AutoInlineInjective`. By doing so, we end up one loop nest that we can easily parallelize (via binding CUDA blocks) and vectorize (via binding CUDA threads).\n",
    "Each CUDA thread operates on a series of numbers as what we did for convolution in :numref:`ch_conv_gpu`.\n",
    "This is the simple default schedule we can get for batch normalization.\n",
    "The code snippet below does it and prints out the corresponding IR. It should be clear to you so far.\n"
   ]
  },
  {
   "cell_type": "code",
   "execution_count": null,
   "metadata": {
    "origin_pos": 3,
    "tab": [
     "tvm"
    ]
   },
   "outputs": [],
   "source": [
    "size = (32, 112)\n",
    "\n",
    "def default_bn(size):\n",
    "    c, n = size[:]\n",
    "    X, Mean, Var, Gamma, Beta, Y = d2ltvm.batch_norm(c, n)\n",
    "    sch = te.create_schedule(Y.op)\n",
    "    te.schedule.AutoInlineInjective(sch)\n",
    "    c, h, w = Y.op.axis[0:3]\n",
    "    sch[Y].bind(c, te.thread_axis(\"blockIdx.x\"))\n",
    "    sch[Y].bind(h, te.thread_axis(\"threadIdx.x\"))\n",
    "    return sch, (X, Mean, Var, Gamma, Beta, Y)\n",
    "\n",
    "sch, args = default_bn(size)\n",
    "print(tvm.lower(sch, args, simple_mode=True))"
   ]
  },
  {
   "cell_type": "markdown",
   "metadata": {
    "origin_pos": 4
   },
   "source": [
    "An alternative scheduling scheme is to fuse all axes of the loop nest and restructure it into a 2-level for loop, where the inner one binds to CUDA threads and the outer one binds to CUDA blocks.\n",
    "The number of CUDA threads of a block is set to be the maximum, as we did in :numref:`ch_pooling_gpu`. The code snippet below does it and prints out the corresponding IR.\n"
   ]
  },
  {
   "cell_type": "code",
   "execution_count": null,
   "metadata": {
    "origin_pos": 5,
    "tab": [
     "tvm"
    ]
   },
   "outputs": [],
   "source": [
    "nt = 0\n",
    "with tvm.target.create(target):\n",
    "    nt = tvm.target.Target.current(allow_none=False).max_num_threads\n",
    "\n",
    "def optimized_bn(size):\n",
    "    c, n = size[:]\n",
    "    X, Mean, Var, Gamma, Beta, Y = d2ltvm.batch_norm(c, n)\n",
    "    sch = te.create_schedule(Y.op)\n",
    "    te.schedule.AutoInlineInjective(sch)\n",
    "    fused = sch[Y].fuse(*sch[Y].op.axis)\n",
    "    bx, tx = sch[Y].split(fused, factor=nt)\n",
    "    sch[Y].bind(bx, te.thread_axis(\"blockIdx.x\"))\n",
    "    sch[Y].bind(tx, te.thread_axis(\"threadIdx.x\"))\n",
    "    return sch, (X, Mean, Var, Gamma, Beta, Y)\n",
    "\n",
    "sch, args = optimized_bn(size)\n",
    "print(tvm.lower(sch, args, simple_mode=True))"
   ]
  },
  {
   "cell_type": "markdown",
   "metadata": {
    "origin_pos": 6
   },
   "source": [
    "In this specific case, as the total number of entries ($32\\times28\\times28=25088$) cannot be divided  by `max_num_threads` ($1024$), we see the `if` statement in the IR to guard the boundary. \n",
    "The term `likely` in the `if` statement indicates the compiler for better speculation.\n",
    "Another new keyword we see in the IR is `floordiv`, which is introduced to guide the access pattern.\n",
    "Note that for batch normalization, we have the same `Mean`, `Var`, `Gamma`, and `Beta` values for the same channel.\n",
    "When different channels are located in the same CUNDA block, we will need an extra calculation to locate the correct values.\n",
    "\n",
    "In general, we want to avoid the above additional steps if possible. However, in this case, as batch normalization is memory-bound, having more CUDA threads in a block, and correspondingly having more data shared in a block, is more important.\n",
    "\n",
    "You may also notice that we do not use the `cache_read` and `cache_write` primitives to optimize the schedule. This is also due to the memory-bound nature of batch normalization, bringing data to local memory would not help much.\n",
    "\n",
    "## Benchmark\n",
    "\n",
    "We use MXNet as the baseline to check the performance of batch normalization we achieve using TVM.\n",
    "The benchmarking methods were defined in :numref:`ch_batch_norm_cpu`.\n",
    "We plot the absolute times of the MXNet baseline and the two scheduling schemes described above, as functions of varied channels.\n"
   ]
  },
  {
   "cell_type": "code",
   "execution_count": null,
   "metadata": {
    "origin_pos": 7,
    "tab": [
     "tvm"
    ]
   },
   "outputs": [],
   "source": [
    "channels = 2**np.arange(3, 9, 1)\n",
    "sizes = [(int(c), 28) for c in channels]\n",
    "default_times = d2ltvm.bench_bn_tvm(default_bn, sizes, target)\n",
    "optimized_times = d2ltvm.bench_bn_tvm(optimized_bn, sizes, target)\n",
    "mxnet_times = d2ltvm.bench_bn_mxnet(sizes, ctx='gpu')\n",
    "times = [mxnet_times, default_times, optimized_times]\n",
    "d2ltvm.plot(channels, times, ylabel='s',\n",
    "            xscale='log', yscale='log',\n",
    "            legend=['mxnet', 'default', 'optimized'], fmts=['--']*(len(times)-1)+['-'])"
   ]
  },
  {
   "cell_type": "markdown",
   "metadata": {
    "origin_pos": 8
   },
   "source": [
    "The results show that even with `if` statement and `floordiv`, the optimized schedule executes faster than the default the schedule for batch normalization.\n",
    "The batch normalization performance of MXNet is much worse, likely to be dominated by the function call overhead.\n",
    "\n",
    "## Summary\n",
    "\n",
    "- Optimizing batch normalization on GPU is all about block and thread binding.\n",
    "- For small operators, having additional steps in IR is acceptable as long as the number of CUDA threads in a CUDA block can be maximized.\n",
    "\n",
    "## Exercise\n",
    "\n",
    "- Try to eliminate the `if` statement and `floordiv` from the IR generated by the optimized scheduling scheme of batch normalization, and check out the performance.\n",
    "- Try to use `cache_write` to schedule batch normalization and observe the performance difference, if any, it brings.\n"
   ]
  }
 ],
 "metadata": {
  "kernelspec": {
   "display_name": "Python 3",
   "language": "python",
   "name": "python3"
  },
  "language_info": {
   "codemirror_mode": {
    "name": "ipython",
    "version": 3
   },
   "file_extension": ".py",
   "mimetype": "text/x-python",
   "name": "python",
   "nbconvert_exporter": "python",
   "pygments_lexer": "ipython3",
   "version": "3.10.12"
  }
 },
 "nbformat": 4,
 "nbformat_minor": 4
}
